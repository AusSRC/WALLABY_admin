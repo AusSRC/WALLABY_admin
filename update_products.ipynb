{
 "cells": [
  {
   "cell_type": "markdown",
   "id": "28d23f1b-f9ba-4a9c-bba0-4158fd5a5dd2",
   "metadata": {},
   "source": [
    "# WALLABY update data products\n",
    "\n",
    "This notebook is intended to be used to update product files in the WALLABY database for accepted sources."
   ]
  },
  {
   "cell_type": "code",
   "execution_count": null,
   "id": "31077a6a-93c2-4dc0-9e8f-f5ac39237c51",
   "metadata": {},
   "outputs": [],
   "source": [
    "import os\n",
    "import getpass\n",
    "import requests\n",
    "import getpass\n",
    "import pyvo as vo\n",
    "from pyvo.auth import authsession, securitymethods\n",
    "from astropy.io.votable import from_table, parse_single_table\n",
    "from astropy.table import vstack"
   ]
  },
  {
   "cell_type": "code",
   "execution_count": null,
   "id": "d7f305ad-6ec0-4474-aee0-efd117ea2f3f",
   "metadata": {},
   "outputs": [],
   "source": [
    "# Enter WALLABY user username and password\n",
    "\n",
    "username = 'wallaby_user'\n",
    "password = getpass.getpass('Enter your password')"
   ]
  },
  {
   "cell_type": "code",
   "execution_count": null,
   "id": "51aa42f6-49fa-4130-8558-36503df2c62f",
   "metadata": {},
   "outputs": [],
   "source": [
    "# Connect with TAP service\n",
    "\n",
    "URL = \"https://wallaby.aussrc.org/tap\"\n",
    "auth = vo.auth.AuthSession()\n",
    "auth.add_security_method_for_url(URL, vo.auth.securitymethods.BASIC)\n",
    "auth.credentials.set_password(username, password)\n",
    "tap = vo.dal.TAPService(URL, session=auth)"
   ]
  },
  {
   "cell_type": "markdown",
   "id": "078482c2-a839-496c-ba84-95e92a0179b0",
   "metadata": {},
   "source": [
    "## 1. Select run"
   ]
  },
  {
   "cell_type": "code",
   "execution_count": null,
   "id": "20e2bc7e-9973-468d-8b48-679b18b3876c",
   "metadata": {},
   "outputs": [],
   "source": [
    "# Get all tags\n",
    "\n",
    "query = \"SELECT * FROM wallaby.run\"\n",
    "votable = tap.search(query)\n",
    "run_table = votable.to_table()"
   ]
  },
  {
   "cell_type": "markdown",
   "id": "f4bb56d0-34db-4813-bae3-898dc864f2fd",
   "metadata": {},
   "source": [
    "<span style=\"font-weight: bold; color: #FF0000;\">⚠ Update the cell below with the Run that you would like to update products for</span>"
   ]
  },
  {
   "cell_type": "code",
   "execution_count": null,
   "id": "acda822d-961a-43dd-b5eb-1187cb1cd87f",
   "metadata": {},
   "outputs": [],
   "source": [
    "# Select run\n",
    "\n",
    "run_name = 'SER_223-22'\n",
    "assert run_name in run_table['name'], 'Run does not exist'"
   ]
  },
  {
   "cell_type": "markdown",
   "id": "0a02d2e7-f25b-4dd4-8762-4df3fa8405e0",
   "metadata": {},
   "source": [
    "## 2. Get detections and products"
   ]
  },
  {
   "cell_type": "code",
   "execution_count": null,
   "id": "4fb26666-f328-4112-bc97-9b20825a9bf1",
   "metadata": {},
   "outputs": [],
   "source": [
    "# Retrieve catalog as Astropy table\n",
    "\n",
    "default_query = \"\"\"SELECT * FROM wallaby.detection d \n",
    "        LEFT JOIN wallaby.run r ON d.run_id = r.id \n",
    "        WHERE d.source_name is not null AND r.name = '$RUN_NAME'\"\"\"\n",
    "query = default_query.replace('$RUN_NAME', run_name)"
   ]
  },
  {
   "cell_type": "code",
   "execution_count": null,
   "id": "6864b54e-fe05-49f4-9834-d41b97161221",
   "metadata": {},
   "outputs": [],
   "source": [
    "# Run TAP query\n",
    "\n",
    "result = tap.search(query)\n",
    "table = result.to_table()\n",
    "table"
   ]
  },
  {
   "cell_type": "code",
   "execution_count": null,
   "id": "8c508271-bafb-4492-a9e1-1fce86cb77e5",
   "metadata": {},
   "outputs": [],
   "source": [
    "# useful function for downloading table products (requires authentication)\n",
    "\n",
    "def download_products(row, products_filename, chunk_size=8192):\n",
    "    \"\"\"Download products for a row of the table (a detection entry)\n",
    "    \n",
    "    \"\"\"\n",
    "    name = row['source_name']\n",
    "    access_url = row['access_url']\n",
    "    votable = parse_single_table(access_url)\n",
    "    product_table = votable.to_table()\n",
    "    url = product_table[product_table['description'] == 'SoFiA-2 Detection Products'][0]['access_url']\n",
    "    with requests.get(url, auth=(username, password), stream=True) as r:\n",
    "        r.raise_for_status()\n",
    "        with open(products_filename, 'wb') as f:\n",
    "            for chunk in r.iter_content(chunk_size=chunk_size):\n",
    "                f.write(chunk)\n",
    "    print(f'Downloaded completed for {name}')\n",
    "    return\n",
    "\n",
    "def download_table_products(table, directory, chunk_size=8192):\n",
    "    \"\"\"Download WALLABY products from ADQL queried table\n",
    "\n",
    "    \"\"\"\n",
    "    if not os.path.exists(directory):\n",
    "        os.mkdir(directory)\n",
    "    print(f'Saving products to {directory}')\n",
    "    for row in table:\n",
    "        try:\n",
    "            name = row['source_name']\n",
    "            products_filename = os.path.join(directory, f'{name}.tar')\n",
    "            download_products(row, products_filename, chunk_size)\n",
    "        except Exception as e:\n",
    "            print(f'Error downloading {products_filename}')\n",
    "            continue\n",
    "    print('Downloads complete')\n",
    "    return"
   ]
  },
  {
   "cell_type": "code",
   "execution_count": null,
   "id": "1ccd94bc-f06e-4191-99ba-8a09b624c50c",
   "metadata": {},
   "outputs": [],
   "source": [
    "# Download product files\n",
    "\n",
    "download_table_products(table[0:2], run_name)"
   ]
  },
  {
   "cell_type": "markdown",
   "id": "374e7c0d-9aa4-482c-af8a-3fd6b7f65196",
   "metadata": {},
   "source": [
    "## 3. Update products"
   ]
  },
  {
   "cell_type": "code",
   "execution_count": null,
   "id": "576d9b46-7e47-421d-aab6-3185d14525b1",
   "metadata": {},
   "outputs": [],
   "source": [
    "import tarfile\n",
    "import glob\n",
    "from astropy.io import fits"
   ]
  },
  {
   "cell_type": "markdown",
   "id": "20aad2cf-f68d-4d6c-b9f4-12dba9ce25e2",
   "metadata": {},
   "source": [
    "<span style=\"font-weight: bold; color: #FF0000;\">⚠ Update the cell below with how you would like to modify the fits files</span>"
   ]
  },
  {
   "cell_type": "code",
   "execution_count": null,
   "id": "db9ff79e-8040-4eab-8573-ca3e17ad13af",
   "metadata": {},
   "outputs": [],
   "source": [
    "# Update this function with how you would like to modify the fits files\n",
    "\n",
    "def update_fits(hdul):\n",
    "    header = hdul[0].header\n",
    "    header['SBID'] = '50095 50583'\n",
    "    return"
   ]
  },
  {
   "cell_type": "code",
   "execution_count": null,
   "id": "2191eb5d-3c35-45dc-9320-e7d853b30ff1",
   "metadata": {},
   "outputs": [],
   "source": [
    "# Get all product files\n",
    "\n",
    "product_tarfiles = glob.glob(os.path.join(run_name, '*.tar'))\n",
    "product_files = [f.replace('.tar', '') for f in product_tarfiles]"
   ]
  },
  {
   "cell_type": "code",
   "execution_count": null,
   "id": "1cae9d90-7089-4d07-9f1b-45b8264c5912",
   "metadata": {
    "scrolled": true
   },
   "outputs": [],
   "source": [
    "# Update all product files\n",
    "\n",
    "# Extract\n",
    "for f in product_tarfiles:\n",
    "    filename = f.replace('.tar', '')\n",
    "    with tarfile.open(f) as tf:\n",
    "        tf.extractall(path=filename)\n",
    "    # os.remove(f)\n",
    "\n",
    "# Update fits files\n",
    "print('Updating fits files')\n",
    "for idx_pf, pf in enumerate(product_files):\n",
    "    print(f'Folder {pf} [{idx_pf + 1}/{len(product_files)}]')\n",
    "    fits_files = glob.glob(os.path.join(pf, '*.fits'))\n",
    "    for idx_ff, ff in enumerate(fits_files):\n",
    "        print(f'[{idx_ff + 1}/{len(fits_files)}] {ff}')\n",
    "        source_name = ff.split('/')[1]\n",
    "        with fits.open(ff, mode='update') as hdul:\n",
    "            update_fits(hdul)\n",
    "            hdul.flush()"
   ]
  },
  {
   "cell_type": "markdown",
   "id": "62da175f-7afc-4803-bcfc-bb68f168fc12",
   "metadata": {},
   "source": [
    "## 4. Re-upload to database\n",
    "\n",
    "**NOTE:** This makes some important assumptions about the run name and source names. The structure that is expected is: `$CWD/<run_name>/<source_name>/<product_file>`. It will parse the filename to get the run name and source name to update.\n",
    "\n",
    "You will need to update the code below with the destination of the database connection credentials environment file."
   ]
  },
  {
   "cell_type": "code",
   "execution_count": null,
   "id": "f62aaa6d-f860-4ccd-9f1d-75264aa1c682",
   "metadata": {},
   "outputs": [],
   "source": [
    "import asyncio\n",
    "import asyncpg\n",
    "from dotenv import load_dotenv"
   ]
  },
  {
   "cell_type": "markdown",
   "id": "22f79072-576e-4e5d-bbf8-82ed847c6ee5",
   "metadata": {},
   "source": [
    "<span style=\"font-weight: bold; color: #FF0000;\">⚠ Update `database_env` in the cell below with the path to the database credentials environment file.</span>"
   ]
  },
  {
   "cell_type": "code",
   "execution_count": null,
   "id": "0193339a-f537-4bd5-8b5f-218c87f966cc",
   "metadata": {},
   "outputs": [],
   "source": [
    "# Database connection\n",
    "\n",
    "database_env = '/path/to/file'\n",
    "assert os.path.exists(database_env), 'Database credentials environment variable not provided'"
   ]
  },
  {
   "cell_type": "code",
   "execution_count": null,
   "id": "35da924c-4cdf-47c6-b5e2-efc36bd9a1d6",
   "metadata": {},
   "outputs": [],
   "source": [
    "# Load environment variable and establish database connection\n",
    "\n",
    "load_dotenv(database_env)\n",
    "creds = {\n",
    "    'host': os.getenv('DATABASE_HOST'),\n",
    "    'database': os.getenv('DATABASE_NAME'),\n",
    "    'user': os.getenv('DATABASE_USER'),\n",
    "    'password': os.getenv('DATABASE_PASSWORD'),\n",
    "    'port': os.getenv('DATABASE_PORT', 5432)\n",
    "}"
   ]
  },
  {
   "cell_type": "code",
   "execution_count": null,
   "id": "3b6eb61a-2047-4f22-ab7a-319a02ddb0d1",
   "metadata": {},
   "outputs": [],
   "source": [
    "# Establish and test connection\n",
    "\n",
    "pool = await asyncpg.create_pool(None, **creds)\n",
    "async with pool.acquire() as conn:\n",
    "    res = await conn.fetch('SELECT * FROM wallaby.run')\n",
    "assert res is not None, 'Connection did not work...'"
   ]
  },
  {
   "cell_type": "code",
   "execution_count": null,
   "id": "ed1382ed-d857-4192-9dc1-636bed4bc51d",
   "metadata": {},
   "outputs": [],
   "source": [
    "# Fits file to bytes function\n",
    "\n",
    "import os\n",
    "import aiofiles\n",
    "\n",
    "async def _get_file_bytes(path: str, mode: str = 'rb'):\n",
    "    buffer = []\n",
    "    if not os.path.isfile(path):\n",
    "        return b''\n",
    "    async with aiofiles.open(path, mode) as f:\n",
    "        while True:\n",
    "            buff = await f.read()\n",
    "            if not buff:\n",
    "                break\n",
    "            buffer.append(buff)\n",
    "        if 'b' in mode:\n",
    "            return b''.join(buffer)\n",
    "        else:\n",
    "            return ''.join(buffer)"
   ]
  },
  {
   "cell_type": "code",
   "execution_count": null,
   "id": "56191592-9b6d-4bd7-b221-b3a14ffce531",
   "metadata": {},
   "outputs": [],
   "source": [
    "# Update fits files\n",
    "\n",
    "update_query = \"UPDATE wallaby.product SET $COLUMN = ($1) WHERE id=$2\"\n",
    "\n",
    "print(f'Re-uploading products to database for run {run_name}')\n",
    "async with pool.acquire() as conn:\n",
    "    async with conn.transaction():\n",
    "        for idx_pf, pf in enumerate(product_files):\n",
    "            source_name = pf.split('/')[1]\n",
    "            print(f'Source {source_name} [{idx_pf + 1}/{len(product_files)}]')\n",
    "            fits_files = glob.glob(os.path.join(pf, '*.fits'))\n",
    "        \n",
    "            # get product id\n",
    "            get_product_id = \"\"\"SELECT pr.id FROM wallaby.product pr\n",
    "                                LEFT JOIN wallaby.detection d ON d.id = pr.detection_id\n",
    "                                LEFT JOIN wallaby.run r ON d.run_id = r.id\n",
    "                                WHERE (r.name = $1 AND d.source_name = $2)\"\"\"\n",
    "            res = await conn.fetchrow(get_product_id, run_name, source_name)\n",
    "            product_id = int(res['id'])\n",
    "            \n",
    "            for idx_ff, ff in enumerate(fits_files):\n",
    "                print(f'[{idx_ff + 1}/{len(fits_files)}] Re-uploaded {ff}')\n",
    "                \n",
    "                # TODO: database update\n",
    "                suffix = ff.rsplit('_', 1)[1].replace('.fits', '')\n",
    "                p_bytes = await _get_file_bytes(ff)\n",
    "                \n",
    "                res = await conn.execute(update_query.replace('$COLUMN', suffix), p_bytes, product_id)"
   ]
  },
  {
   "cell_type": "code",
   "execution_count": null,
   "id": "14ce4329-42e3-4234-82f1-7c76897270cd",
   "metadata": {},
   "outputs": [],
   "source": [
    "# Close database connection\n",
    "\n",
    "pool.close()"
   ]
  }
 ],
 "metadata": {
  "kernelspec": {
   "display_name": "Python 3 (ipykernel)",
   "language": "python",
   "name": "python3"
  },
  "language_info": {
   "codemirror_mode": {
    "name": "ipython",
    "version": 3
   },
   "file_extension": ".py",
   "mimetype": "text/x-python",
   "name": "python",
   "nbconvert_exporter": "python",
   "pygments_lexer": "ipython3",
   "version": "3.9.6"
  }
 },
 "nbformat": 4,
 "nbformat_minor": 5
}
